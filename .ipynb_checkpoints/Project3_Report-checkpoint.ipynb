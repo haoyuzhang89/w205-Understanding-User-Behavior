{
 "cells": [
  {
   "cell_type": "markdown",
   "metadata": {},
   "source": [
    "# Project 3: Understanding User Behavior\n",
    "### Team 4\n",
    "### Team Member: Hao Wu, Haolun Zhang, Haoyu Zhang"
   ]
  },
  {
   "cell_type": "markdown",
   "metadata": {},
   "source": [
    "## **Report Struture**:\n",
    "    1. Project Description\n",
    "    2. Tools\n",
    "    3. Project Overview - Database, Pipeline, Analysis\n",
    "    4. Commands & Example Outputs\n",
    "    5. Example Sanity Check\n",
    "    6. Simple Data Analysis (Presto)"
   ]
  },
  {
   "cell_type": "markdown",
   "metadata": {},
   "source": [
    "## 1. Project Description"
   ]
  },
  {
   "cell_type": "markdown",
   "metadata": {},
   "source": [
    "-  Our project is intended to mimic a real world gaming system to include simple gaming ideas such as purchases, inventory, guild joining mechanics. We utilized the below tools to realize features like: \n",
    "    1. live time player status check\n",
    "    2. Inventory tracking\n",
    "    3. Purchase randomization in terms of weapon rarity\n",
    "    4. Simple analysis using Hive and Presto utilizing the live data stream build using flask API and Kafka.\n",
    "\n",
    "\n",
    "    \n",
    "- **Our project focused more on API building and game event logics rather than the analysis part in Presto. The analysis in presto is intended to show idea demonstration the game owner can potentially perform rather than an actual full length data analysis with real world data.**\n",
    "    \n",
    "\n",
    "\n",
    "- Most of our examples shown in this report are ran our teammate's, **Haoyu Zhang's**, system, so you might observer certain system path call that is different from the owner in Github.\n",
    "\n",
    "- The MD file and the jupyter notebook files serve as our main report for the project to demonstrate the pipeline workflow, simple analysis. In case the format of MD is not ideal due to plateform supporting and various code examples, please refer to ou jupyter file for your reference."
   ]
  },
  {
   "cell_type": "markdown",
   "metadata": {},
   "source": [
    "## 2. Tools\n",
    "\n",
    "For this project, we used the following tools:\n",
    "1. Docker Images: \n",
    "  - cloudera \n",
    "  - kafka                        \n",
    "  - mids (terminal system image)\n",
    "  - spark\n",
    "  - zookeeper\n",
    "  - Presto\n",
    "2. SQLite Database\n",
    "3. Kafka\n",
    "4. Hive\n",
    "5. Flask API\n",
    "6. Presto\n",
    "7. Google Cloud Virtual Machine \n",
    "8. Jupyter Notebook"
   ]
  },
  {
   "cell_type": "markdown",
   "metadata": {},
   "source": [
    "## 3. Project Overview - Database, Pipeline, Analysis\n",
    "\n",
    "#### SQLite Database setup\n",
    "- To keep live referrence with each API call the player enters in their record and satisfy certain join guild conditions. We implemented SQLite database techinques including:\n",
    "    1. Creating tables: player_status (weapon inventory), and guild (guild name and the player in it)\n",
    "    2. Building connections within API calls so for certain event criteria, the API can interact with the live status of the SQLite database created and identify if the player satisfy the criterias or not and return the appropriate response.\n",
    "\n",
    "\n",
    "#### API Functionality\n",
    "Event Types:\n",
    "   1. Purchase a sword\n",
    "   2. Purchase a shield\n",
    "   3. Join a guild\n",
    "   \n",
    "#### Event action details:\n",
    "   - For `Purchase a sword` and `Purchase a shield` events, when getting called for each user, the API function will generate a rarity number that is assigned randomly along with the weapon type for the user.\n",
    "   \n",
    "   - For `Join a guild` event, the player will specify the guild name they want to join along with their player name into the API call, the function will check whether they qualify for the conditions for them to join the guild. **Conditions include: 1. this player has not joined the same guild before. 2. the player has at least a sword or a shield** Our API function will check for these two conditions before letting the player join the guild and return the according responses to the user in API call.\n",
    "   \n",
    "#### Information passed through Kafka\n",
    "   - For `Purchase a sword` and `Purchase a shield` events, th API will pass the player name, weapon type and weapon rarity information along with Host info and other system info into the created Kafka pipelines.\n",
    "   - For `Join a guild` events, the API will pass the player name, guild name, the \n",
    "   \n",
    "#### Stream Filtering and Hive Table Creation\n",
    "\n",
    "- For designing the pipeline, we decided to use a single topic in kafka, and separate script for filtering events and creating hive tables for querying purpose for the 3 event types listed in the above section.\n",
    "\n",
    "- We created the filters by identifying the event type in each json record passed through kafka and created 3 tables in hive using hive sql querying and matched these tables to the parquet files stored in the corresponding locations. \n",
    "\n",
    "- The 3 tables we created and matched to the parquet files are:\n",
    "    1.shield_purchases\n",
    "    2.sword_purchases\n",
    "    3.guild_joins\n",
    "\n",
    "#### Presto Querying for simple analysis\n",
    "\n",
    "- After the streaming is setup and the Hive tables created, we inputed sudo user data and performed simple analysis for each table to test the notion of some user behavior and player status.\n"
   ]
  },
  {
   "cell_type": "markdown",
   "metadata": {},
   "source": [
    "## 4. Commands & Example Outputs\n",
    "### a. Set up Database"
   ]
  },
  {
   "cell_type": "code",
   "execution_count": 11,
   "metadata": {},
   "outputs": [],
   "source": [
    "import sqlite3"
   ]
  },
  {
   "cell_type": "code",
   "execution_count": null,
   "metadata": {},
   "outputs": [],
   "source": [
    "conn = sqlite3.connect('player_status.db')\n",
    "\n",
    "cursor = conn.cursor()\n",
    "\n",
    "command_create = \"\"\"Create TABLE IF NOT EXISTS \n",
    "player_status(player_name TEXT, Weapon_type Text, Rarity INTEGER)\"\"\"\n",
    "\n",
    "cursor.execute(command_create)\n",
    "\n",
    "cursor.execute(\"insert Into player_status VALUES('Hao','Sword', 5)\")\n",
    "cursor.execute(\"insert Into player_status VALUES('Dan','Sword', 2)\")\n",
    "\n",
    "conn.commit()\n",
    "conn.close()"
   ]
  },
  {
   "cell_type": "code",
   "execution_count": null,
   "metadata": {},
   "outputs": [],
   "source": [
    "conn = sqlite3.connect('player_status.db')\n",
    "\n",
    "cursor = conn.cursor()\n",
    "\n",
    "command_create = \"\"\"Create TABLE IF NOT EXISTS \n",
    "guild(guild_name TEXT, player_name)\"\"\"\n",
    "\n",
    "cursor.execute(command_create)\n",
    "\n",
    "cursor.execute(\"insert Into guild VALUES('Avengers', 'Hao')\")\n",
    "cursor.execute(\"insert Into guild VALUES('Justice_League', 'Dan')\")\n",
    "cursor.execute(\"insert Into guild VALUES('SpongeBob', 'Alan')\")\n",
    "\n",
    "conn.commit()\n",
    "conn.close()"
   ]
  },
  {
   "cell_type": "markdown",
   "metadata": {},
   "source": [
    "### b. Set up Docker"
   ]
  },
  {
   "cell_type": "markdown",
   "metadata": {},
   "source": [
    "```\n",
    "docker-compoes up -d\n",
    "\n",
    "```"
   ]
  },
  {
   "cell_type": "markdown",
   "metadata": {},
   "source": [
    "```\n",
    "docker-compose ps\n",
    "\n",
    "```"
   ]
  },
  {
   "cell_type": "raw",
   "metadata": {},
   "source": [
    "               Name                             Command               State                               Ports                            \n",
    "-------------------------------------------------------------------------------------------------------------------------------------------\n",
    "project-3-haoyuzhang89_cloudera_1    /usr/bin/docker-entrypoint ...   Up      10000/tcp, 50070/tcp, 8020/tcp, 0.0.0.0:8888->8888/tcp,      \n",
    "                                                                              9083/tcp                                                     \n",
    "project-3-haoyuzhang89_kafka_1       /etc/confluent/docker/run        Up      29092/tcp, 9092/tcp                                          \n",
    "project-3-haoyuzhang89_mids_1        /bin/bash                        Up      0.0.0.0:5000->5000/tcp, 8888/tcp                             \n",
    "project-3-haoyuzhang89_presto_1      /usr/bin/docker-entrypoint ...   Up      8080/tcp                                                     \n",
    "project-3-haoyuzhang89_spark_1       docker-entrypoint.sh bash        Up      8888/tcp                                                     \n",
    "project-3-haoyuzhang89_zookeeper_1   /etc/confluent/docker/run        Up      2181/tcp, 2888/tcp, 32181/tcp, 3888/tcp   "
   ]
  },
  {
   "cell_type": "markdown",
   "metadata": {},
   "source": [
    "```\n",
    "docker-compose exec kafka \\\n",
    "  kafka-topics \\\n",
    "    --create \\\n",
    "    --topic events \\\n",
    "    --partitions 1 \\\n",
    "    --replication-factor 1 \\\n",
    "    --if-not-exists \\\n",
    "    --zookeeper zookeeper:32181\n",
    "```"
   ]
  },
  {
   "cell_type": "markdown",
   "metadata": {},
   "source": [
    "### c. Build API \n",
    "**Calling game API from local environment**"
   ]
  },
  {
   "cell_type": "markdown",
   "metadata": {},
   "source": [
    "```\n",
    "docker-compose exec mids \\\n",
    "env FLASK_APP=/w205/project-3-haoyuzhang89/game_api.py \\\n",
    "flask run --host 0.0.0.0\n",
    "```"
   ]
  },
  {
   "cell_type": "raw",
   "metadata": {},
   "source": [
    " * Serving Flask app \"game_api\"\n",
    " * Running on http://0.0.0.0:5000/ (Press CTRL+C to quit)"
   ]
  },
  {
   "cell_type": "markdown",
   "metadata": {},
   "source": [
    "**Keep Kafka pipeline open for streaming and visualization**"
   ]
  },
  {
   "cell_type": "markdown",
   "metadata": {},
   "source": [
    "```\n",
    "docker-compose exec mids \\\n",
    "kafkacat -C -b kafka:29092 -t events -o beginning\n",
    "```    "
   ]
  },
  {
   "cell_type": "markdown",
   "metadata": {},
   "source": [
    "### d. Set up Filtering & Streaming for Kafka Data Input"
   ]
  },
  {
   "cell_type": "markdown",
   "metadata": {},
   "source": [
    "```\n",
    "docker-compose exec spark \\\n",
    "spark-submit \\\n",
    "/w205/project-3-haoyuzhang89/write_swords_stream.py\n",
    "```"
   ]
  },
  {
   "cell_type": "markdown",
   "metadata": {},
   "source": [
    "```\n",
    "docker-compose exec spark \\\n",
    "spark-submit \\\n",
    "/w205/project-3-haoyuzhang89/write_shields_stream.py\n",
    "```"
   ]
  },
  {
   "cell_type": "markdown",
   "metadata": {},
   "source": [
    "```\n",
    "docker-compose exec spark \\\n",
    "spark-submit \\\n",
    "/w205/project-3-haoyuzhang89/write_guild_stream.py\n",
    "```"
   ]
  },
  {
   "cell_type": "markdown",
   "metadata": {},
   "source": [
    "### e. Hive table Creation"
   ]
  },
  {
   "cell_type": "markdown",
   "metadata": {},
   "source": [
    "```\n",
    "docker-compose exec cloudera hive\n",
    "```"
   ]
  },
  {
   "cell_type": "markdown",
   "metadata": {},
   "source": [
    "```\n",
    "create external table if not exists default.sword_purchases (\n",
    "    raw_event string,\n",
    "    timestamp string,\n",
    "    Accept string,\n",
    "    Host string,\n",
    "    User_Agent string,\n",
    "    event_type string,\n",
    "    rarity string,\n",
    "    player_name string\n",
    "  )\n",
    "  stored as parquet\n",
    "  location '/tmp/sword_purchases'\n",
    "  tblproperties (\"parquet.compress\"=\"SNAPPY\");\n",
    "```"
   ]
  },
  {
   "cell_type": "raw",
   "metadata": {},
   "source": [
    "OK\n",
    "Time taken: 5.794 seconds"
   ]
  },
  {
   "cell_type": "markdown",
   "metadata": {},
   "source": [
    "### f. Call Events"
   ]
  },
  {
   "cell_type": "markdown",
   "metadata": {},
   "source": [
    "#### Single Event Call"
   ]
  },
  {
   "cell_type": "markdown",
   "metadata": {},
   "source": [
    "```\n",
    "docker-compose exec mids curl http://localhost:5000/purchase_a_sword/Haoyu\n",
    "        \n",
    "docker-compose exec mids curl http://localhost:5000/purchase_a_shield/Hao\n",
    "\n",
    "docker-compose exec mids curl http://localhost:5000/join_a_guild/SpongeBob/Alan\n",
    "```"
   ]
  },
  {
   "cell_type": "markdown",
   "metadata": {},
   "source": [
    "#### Batch Event Call"
   ]
  },
  {
   "cell_type": "markdown",
   "metadata": {},
   "source": [
    "```\n",
    "docker-compose exec mids \\\n",
    "ab \\\n",
    "-n 10 \\\n",
    "-H \"Host: user1.comcast.com\" \\\n",
    "http://localhost:5000/purchase_a_sword/Haoyu\n",
    "```"
   ]
  },
  {
   "cell_type": "raw",
   "metadata": {},
   "source": [
    "127.0.0.1 - - [05/Dec/2020 01:12:48] \"GET /purchase_a_sword/Haoyu HTTP/1.0\" 200 -\n",
    "127.0.0.1 - - [05/Dec/2020 01:12:48] \"GET /purchase_a_sword/Haoyu HTTP/1.0\" 200 -\n",
    "127.0.0.1 - - [05/Dec/2020 01:12:48] \"GET /purchase_a_sword/Haoyu HTTP/1.0\" 200 -\n",
    "127.0.0.1 - - [05/Dec/2020 01:12:48] \"GET /purchase_a_sword/Haoyu HTTP/1.0\" 200 -\n",
    "127.0.0.1 - - [05/Dec/2020 01:12:49] \"GET /purchase_a_sword/Haoyu HTTP/1.0\" 200 -\n",
    "127.0.0.1 - - [05/Dec/2020 01:12:49] \"GET /purchase_a_sword/Haoyu HTTP/1.0\" 200 -\n",
    "127.0.0.1 - - [05/Dec/2020 01:12:49] \"GET /purchase_a_sword/Haoyu HTTP/1.0\" 200 -\n",
    "127.0.0.1 - - [05/Dec/2020 01:12:49] \"GET /purchase_a_sword/Haoyu HTTP/1.0\" 200 -\n",
    "127.0.0.1 - - [05/Dec/2020 01:12:49] \"GET /purchase_a_sword/Haoyu HTTP/1.0\" 200 -\n",
    "127.0.0.1 - - [05/Dec/2020 01:12:49] \"GET /purchase_a_sword/Haoyu HTTP/1.0\" 200 -"
   ]
  },
  {
   "cell_type": "raw",
   "metadata": {},
   "source": [
    "{\"Host\": \"user1.comcast.com\", \"User-Agent\": \"ApacheBench/2.3\", \"event_type\": \"purchase_sword\", \"Accept\": \"*/*\", \"rarity\": 5}\n",
    "{\"Host\": \"user1.comcast.com\", \"User-Agent\": \"ApacheBench/2.3\", \"event_type\": \"purchase_sword\", \"Accept\": \"*/*\", \"rarity\": 5}\n",
    "{\"Host\": \"user1.comcast.com\", \"User-Agent\": \"ApacheBench/2.3\", \"event_type\": \"purchase_sword\", \"Accept\": \"*/*\", \"rarity\": 1}\n",
    "{\"Host\": \"user1.comcast.com\", \"User-Agent\": \"ApacheBench/2.3\", \"event_type\": \"purchase_sword\", \"Accept\": \"*/*\", \"rarity\": 6}\n",
    "{\"Host\": \"user1.comcast.com\", \"User-Agent\": \"ApacheBench/2.3\", \"event_type\": \"purchase_sword\", \"Accept\": \"*/*\", \"rarity\": 2}\n",
    "{\"Host\": \"user1.comcast.com\", \"User-Agent\": \"ApacheBench/2.3\", \"event_type\": \"purchase_sword\", \"Accept\": \"*/*\", \"rarity\": 4}\n",
    "{\"Host\": \"user1.comcast.com\", \"User-Agent\": \"ApacheBench/2.3\", \"event_type\": \"purchase_sword\", \"Accept\": \"*/*\", \"rarity\": 5}\n",
    "{\"Host\": \"user1.comcast.com\", \"User-Agent\": \"ApacheBench/2.3\", \"event_type\": \"purchase_sword\", \"Accept\": \"*/*\", \"rarity\": 4}\n",
    "{\"Host\": \"user1.comcast.com\", \"User-Agent\": \"ApacheBench/2.3\", \"event_type\": \"purchase_sword\", \"Accept\": \"*/*\", \"rarity\": 5}\n",
    "{\"Host\": \"user1.comcast.com\", \"User-Agent\": \"ApacheBench/2.3\", \"event_type\": \"purchase_sword\", \"Accept\": \"*/*\", \"rarity\": 4}"
   ]
  },
  {
   "cell_type": "markdown",
   "metadata": {},
   "source": [
    "#### Real-time Event Call"
   ]
  },
  {
   "cell_type": "markdown",
   "metadata": {},
   "source": [
    "```\n",
    "while true; do\n",
    "docker-compose exec mids \\\n",
    "ab -n 10 -H \"Host: user1.comcast.com\" \\\n",
    "http://localhost:5000/purchase_a_sword/Haoyu \n",
    "sleep 10\n",
    "done\n",
    "```"
   ]
  },
  {
   "cell_type": "markdown",
   "metadata": {},
   "source": [
    "```\n",
    "while true; do\n",
    "docker-compose exec mids \\\n",
    "ab -n 10 -H \"Host: user2.att.com\" \\\n",
    "http://localhost:5000/purchase_a_shield/Haolun\n",
    "sleep 15\n",
    "done\n",
    "```"
   ]
  },
  {
   "cell_type": "markdown",
   "metadata": {},
   "source": [
    "```\n",
    "while true; do\n",
    "docker-compose exec mids \\\n",
    "ab -n 10 -H \"Host: user3.apple.com\" \\\n",
    "http://localhost:5000/purchase_a_sword/Hao\n",
    "sleep 10\n",
    "done\n",
    "```"
   ]
  },
  {
   "cell_type": "markdown",
   "metadata": {},
   "source": [
    "### g. Presto Querying for Analysis"
   ]
  },
  {
   "cell_type": "markdown",
   "metadata": {},
   "source": [
    "```\n",
    "docker-compose exec presto presto --server presto:8080 --catalog hive --schema default\n",
    "```"
   ]
  },
  {
   "cell_type": "markdown",
   "metadata": {},
   "source": [
    "```\n",
    "presto:default> select count(*) from sword_purchases;\n",
    "```"
   ]
  },
  {
   "cell_type": "raw",
   "metadata": {},
   "source": [
    " _col0 \n",
    "-------\n",
    "   280 \n",
    "(1 row)\n",
    "\n",
    "Query 20201205_031806_00002_6wv7i, FINISHED, 1 node\n",
    "Splits: 35 total, 31 done (88.57%)\n",
    "0:11 [250 rows, 64.7KB] [22 rows/s, 5.9KB/s]"
   ]
  },
  {
   "cell_type": "markdown",
   "metadata": {},
   "source": [
    "## 5. Example Sanity Check"
   ]
  },
  {
   "cell_type": "markdown",
   "metadata": {},
   "source": [
    "#### Check if API is deployed successfully"
   ]
  },
  {
   "cell_type": "raw",
   "metadata": {},
   "source": [
    "* Serving Flask app \"game_api\"\n",
    "* Running on http://0.0.0.0:5000/ (Press CTRL+C to quit)"
   ]
  },
  {
   "cell_type": "markdown",
   "metadata": {},
   "source": [
    "#### Check if API call is successful"
   ]
  },
  {
   "cell_type": "raw",
   "metadata": {},
   "source": [
    "127.0.0.1 - - [05/Dec/2020 01:17:56] \"GET /purchase_a_shield/Hao HTTP/1.0\" 200 -"
   ]
  },
  {
   "cell_type": "markdown",
   "metadata": {},
   "source": [
    "#### Check if API call generate the expected output for the user"
   ]
  },
  {
   "cell_type": "raw",
   "metadata": {},
   "source": [
    "jupyter@w205-1:~/w205/project-3-haoyuzhang89$ docker-compose exec mids curl http://localhost:5000/join_a_guild/Ferrari/Haoyu \n",
    "Congratulation on join this guild\n",
    "\n",
    "jupyter@w205-1:~/w205/project-3-haoyuzhang89$ docker-compose exec mids curl http://localhost:5000/join_a_guild/Ferrari/Haoyu \n",
    "You are already in this guild ! \n",
    "\n",
    "jupyter@w205-1:~/w205/project-3-haoyuzhang89$ docker-compose exec mids curl http://localhost:5000/join_a_guild/Ferrari/Alan\n",
    "You need at least a weapon to join guild"
   ]
  },
  {
   "cell_type": "markdown",
   "metadata": {},
   "source": [
    "#### Check if the expected info is logged into Kafka pipeline"
   ]
  },
  {
   "cell_type": "raw",
   "metadata": {},
   "source": [
    "{\"Host\": \"user1.comcast.com\", \"User-Agent\": \"ApacheBench/2.3\", \"event_type\": \"purchase_sword\", \"Accept\": \"*/*\", \"rarity\": 5}\n",
    "{\"Host\": \"user1.comcast.com\", \"User-Agent\": \"ApacheBench/2.3\", \"event_type\": \"purchase_sword\", \"Accept\": \"*/*\", \"rarity\": 5}"
   ]
  },
  {
   "cell_type": "markdown",
   "metadata": {},
   "source": [
    "#### Check if data is properly stored as parquet files in the right directory"
   ]
  },
  {
   "cell_type": "raw",
   "metadata": {},
   "source": [
    "Found 2 items\n",
    "drwxr-xr-x   - root supergroup          0 2020-12-05 03:12 /tmp/sword_purchases/_spark_metadata\n",
    "-rw-r--r--   1 root supergroup        767 2020-12-05 03:12 /tmp/sword_purchases/part-00000-34fa90f5-9fd8-40f8-bbc8-6dc9077cc235-c000.snappy.parquet"
   ]
  },
  {
   "cell_type": "markdown",
   "metadata": {},
   "source": [
    "#### Check hive table is created"
   ]
  },
  {
   "cell_type": "markdown",
   "metadata": {},
   "source": [
    "```\n",
    "create external table if not exists default.guild_joins (\n",
    "    raw_event string,\n",
    "    timestamp string,\n",
    "    Accept string,\n",
    "    Host string,\n",
    "    User_Agent string,\n",
    "    event_type string,\n",
    "    rarity string,\n",
    "    player_name string,\n",
    "    guild_name string\n",
    "  )\n",
    "  stored as parquet\n",
    "  location '/tmp/guild_joins'\n",
    "  tblproperties (\"parquet.compress\"=\"SNAPPY\");\n",
    "\n",
    "```\n"
   ]
  },
  {
   "cell_type": "raw",
   "metadata": {},
   "source": [
    "OK\n",
    "Time taken: 1.842 seconds\n",
    "hive>"
   ]
  },
  {
   "cell_type": "markdown",
   "metadata": {},
   "source": [
    "#### Check if data exists in Presto queries"
   ]
  },
  {
   "cell_type": "markdown",
   "metadata": {},
   "source": [
    "```\n",
    "presto:default> select count(*) from shield_purchases;\n",
    "\n",
    "```"
   ]
  },
  {
   "cell_type": "raw",
   "metadata": {},
   "source": [
    "\n",
    " _col0 \n",
    "-------\n",
    "  1150 \n",
    "(1 row)\n",
    "\n",
    "Query 20201205_033127_00009_6wv7i, FINISHED, 1 node\n",
    "Splits: 105 total, 100 done (95.24%)\n",
    "0:06 [1.14K rows, 103KB] [201 rows/s, 18.1KB/s]\n"
   ]
  },
  {
   "cell_type": "markdown",
   "metadata": {},
   "source": [
    "```\n",
    "presto:default> select count(*), rarity  from sword_purchases group by rarity;\n",
    "```"
   ]
  },
  {
   "cell_type": "raw",
   "metadata": {},
   "source": [
    " _col0 | rarity \n",
    "-------+--------\n",
    "    80 | 4      \n",
    "    79 | 6      \n",
    "    79 | 2      \n",
    "    86 | 1      \n",
    "    73 | 5      \n",
    "    73 | 3      \n",
    "(6 rows)\n",
    "\n",
    "Query 20201205_032239_00006_6wv7i, FINISHED, 1 node\n",
    "Splits: 56 total, 55 done (98.21%)\n",
    "0:05 [470 rows, 122KB] [93 rows/s, 24.2KB/s]"
   ]
  },
  {
   "cell_type": "markdown",
   "metadata": {},
   "source": [
    "```\n",
    "presto:default> select count(*) as number, rarity  from shield_purchases group by rarity order by number desc;\n",
    "```"
   ]
  },
  {
   "cell_type": "raw",
   "metadata": {},
   "source": [
    " number | rarity \n",
    "--------+--------\n",
    "     99 | 1      \n",
    "     91 | 2      \n",
    "     89 | 6      \n",
    "     85 | 4      \n",
    "     84 | 3      \n",
    "     82 | 5      \n",
    "(6 rows)\n",
    "\n",
    "Query 20201205_033355_00012_6wv7i, FINISHED, 1 node\n",
    "Splits: 62 total, 55 done (88.71%)\n",
    "0:03 [490 rows, 127KB] [157 rows/s, 40.8KB/s]"
   ]
  },
  {
   "cell_type": "markdown",
   "metadata": {},
   "source": [
    "```\n",
    "presto:default> select * from sword_purchases limit 10;\n",
    "```"
   ]
  },
  {
   "cell_type": "raw",
   "metadata": {},
   "source": [
    "                                                          raw_event                                                           |        timestamp        | acc\n",
    "------------------------------------------------------------------------------------------------------------------------------+-------------------------+----\n",
    " {\"Host\": \"user1.comcast.com\", \"User-Agent\": \"ApacheBench/2.3\", \"event_type\": \"purchase_sword\", \"Accept\": \"*/*\", \"rarity\": 4} | 2020-12-05 03:22:07.779 | */*\n",
    " {\"Host\": \"user1.comcast.com\", \"User-Agent\": \"ApacheBench/2.3\", \"event_type\": \"purchase_sword\", \"Accept\": \"*/*\", \"rarity\": 6} | 2020-12-05 03:22:07.809 | */*\n",
    " {\"Host\": \"user1.comcast.com\", \"User-Agent\": \"ApacheBench/2.3\", \"event_type\": \"purchase_sword\", \"Accept\": \"*/*\", \"rarity\": 2} | 2020-12-05 03:22:07.883 | */*\n",
    " {\"Host\": \"user1.comcast.com\", \"User-Agent\": \"ApacheBench/2.3\", \"event_type\": \"purchase_sword\", \"Accept\": \"*/*\", \"rarity\": 3} | 2020-12-05 03:22:07.961 | */*\n",
    " {\"Host\": \"user1.comcast.com\", \"User-Agent\": \"ApacheBench/2.3\", \"event_type\": \"purchase_sword\", \"Accept\": \"*/*\", \"rarity\": 1} | 2020-12-05 03:22:07.987 | */*\n",
    " {\"Host\": \"user1.comcast.com\", \"User-Agent\": \"ApacheBench/2.3\", \"event_type\": \"purchase_sword\", \"Accept\": \"*/*\", \"rarity\": 4} | 2020-12-05 03:22:08.016 | */*\n",
    " {\"Host\": \"user1.comcast.com\", \"User-Agent\": \"ApacheBench/2.3\", \"event_type\": \"purchase_sword\", \"Accept\": \"*/*\", \"rarity\": 6} | 2020-12-05 03:22:08.043 | */*\n",
    " {\"Host\": \"user1.comcast.com\", \"User-Agent\": \"ApacheBench/2.3\", \"event_type\": \"purchase_sword\", \"Accept\": \"*/*\", \"rarity\": 5} | 2020-12-05 03:22:08.091 | */*\n",
    " {\"Host\": \"user1.comcast.com\", \"User-Agent\": \"ApacheBench/2.3\", \"event_type\": \"purchase_sword\", \"Accept\": \"*/*\", \"rarity\": 1} | 2020-12-05 03:22:08.144 | */*\n",
    ":...skipping...\n",
    "                                                          raw_event                                                           |        timestamp        | acc\n",
    "------------------------------------------------------------------------------------------------------------------------------+-------------------------+----\n",
    " {\"Host\": \"user1.comcast.com\", \"User-Agent\": \"ApacheBench/2.3\", \"event_type\": \"purchase_sword\", \"Accept\": \"*/*\", \"rarity\": 4} | 2020-12-05 03:22:07.779 | */*\n",
    " {\"Host\": \"user1.comcast.com\", \"User-Agent\": \"ApacheBench/2.3\", \"event_type\": \"purchase_sword\", \"Accept\": \"*/*\", \"rarity\": 6} | 2020-12-05 03:22:07.809 | */*\n",
    " {\"Host\": \"user1.comcast.com\", \"User-Agent\": \"ApacheBench/2.3\", \"event_type\": \"purchase_sword\", \"Accept\": \"*/*\", \"rarity\": 2} | 2020-12-05 03:22:07.883 | */*\n",
    " {\"Host\": \"user1.comcast.com\", \"User-Agent\": \"ApacheBench/2.3\", \"event_type\": \"purchase_sword\", \"Accept\": \"*/*\", \"rarity\": 3} | 2020-12-05 03:22:07.961 | */*\n",
    " {\"Host\": \"user1.comcast.com\", \"User-Agent\": \"ApacheBench/2.3\", \"event_type\": \"purchase_sword\", \"Accept\": \"*/*\", \"rarity\": 1} | 2020-12-05 03:22:07.987 | */*\n",
    " {\"Host\": \"user1.comcast.com\", \"User-Agent\": \"ApacheBench/2.3\", \"event_type\": \"purchase_sword\", \"Accept\": \"*/*\", \"rarity\": 4} | 2020-12-05 03:22:08.016 | */*\n",
    " {\"Host\": \"user1.comcast.com\", \"User-Agent\": \"ApacheBench/2.3\", \"event_type\": \"purchase_sword\", \"Accept\": \"*/*\", \"rarity\": 6} | 2020-12-05 03:22:08.043 | */*\n",
    " {\"Host\": \"user1.comcast.com\", \"User-Agent\": \"ApacheBench/2.3\", \"event_type\": \"purchase_sword\", \"Accept\": \"*/*\", \"rarity\": 5} | 2020-12-05 03:22:08.091 | */*\n",
    " {\"Host\": \"user1.comcast.com\", \"User-Agent\": \"ApacheBench/2.3\", \"event_type\": \"purchase_sword\", \"Accept\": \"*/*\", \"rarity\": 1} | 2020-12-05 03:22:08.144 | */*\n",
    " {\"Host\": \"user1.comcast.com\", \"User-Agent\": \"ApacheBench/2.3\", \"event_type\": \"purchase_sword\", \"Accept\": \"*/*\", \"rarity\": 5} | 2020-12-05 03:22:08.176 | */*\n",
    "(10 rows)\n",
    "~\n",
    "~\n",
    "~\n",
    "\n",
    "Query 20201205_034620_00019_6wv7i, FINISHED, 1 node\n",
    "Splits: 61 total, 4 done (6.56%)\n",
    "2:07 [30 rows, 7.8KB] [0 rows/s, 63B/s]"
   ]
  },
  {
   "cell_type": "markdown",
   "metadata": {},
   "source": [
    "## 6. Simple Data Analysis (Presto)"
   ]
  },
  {
   "cell_type": "markdown",
   "metadata": {},
   "source": [
    "### Check if the data stream is setup correctly in Presto"
   ]
  },
  {
   "cell_type": "markdown",
   "metadata": {},
   "source": [
    "```\n",
    "docker-compose exec presto presto --server presto:8080 --catalog hive --schema default\n",
    "```"
   ]
  },
  {
   "cell_type": "markdown",
   "metadata": {},
   "source": [
    "```\n",
    "presto:default> select count(*) from guild_joins;\n",
    "```"
   ]
  },
  {
   "cell_type": "raw",
   "metadata": {},
   "source": [
    " _col0 \n",
    "-------\n",
    "     1 \n",
    "(1 row)\n",
    "\n",
    "Query 20201206_062711_00003_54dp9, FINISHED, 1 node\n",
    "Splits: 3 total, 1 done (33.33%)\n",
    "0:01 [0 rows, 0B] [0 rows/s, 0B/s]"
   ]
  },
  {
   "cell_type": "markdown",
   "metadata": {},
   "source": [
    "### Check if the raw data field are matched correctly based on our created schema in Hive"
   ]
  },
  {
   "cell_type": "markdown",
   "metadata": {},
   "source": [
    "```\n",
    "presto:default> select * from guild_joins;\n",
    "```"
   ]
  },
  {
   "cell_type": "raw",
   "metadata": {},
   "source": [
    "\n",
    "                                                                              raw_event                 \n",
    "--------------------------------------------------------------------------------------------------------\n",
    " {\"player_name\": \"Alan\", \"event_type\": \"join_a_guild\", \"guild_name\": \"Ferrari\", \"Accept\": \"*/*\", \"User-A\n",
    "(1 row)\n",
    "(END)"
   ]
  },
  {
   "cell_type": "markdown",
   "metadata": {},
   "source": [
    "### Check weapon rarity distribution"
   ]
  },
  {
   "cell_type": "markdown",
   "metadata": {},
   "source": [
    "```\n",
    "presto:default> select count(*), rarity  from sword_purchases group by rarity;\n",
    "```"
   ]
  },
  {
   "cell_type": "raw",
   "metadata": {},
   "source": [
    " _col0 | rarity \n",
    "-------+--------\n",
    "    80 | 4      \n",
    "    79 | 6      \n",
    "    79 | 2      \n",
    "    86 | 1      \n",
    "    73 | 5      \n",
    "    73 | 3      \n",
    "(6 rows)\n",
    "\n",
    "Query 20201205_032239_00006_6wv7i, FINISHED, 1 node\n",
    "Splits: 56 total, 55 done (98.21%)\n",
    "0:05 [470 rows, 122KB] [93 rows/s, 24.2KB/s]"
   ]
  },
  {
   "cell_type": "markdown",
   "metadata": {},
   "source": [
    "```\n",
    "presto:default> select count(*) as number, rarity  from shield_purchases group by rarity order by number desc;\n",
    "```"
   ]
  },
  {
   "cell_type": "raw",
   "metadata": {},
   "source": [
    " number | rarity \n",
    "--------+--------\n",
    "     99 | 1      \n",
    "     91 | 2      \n",
    "     89 | 6      \n",
    "     85 | 4      \n",
    "     84 | 3      \n",
    "     82 | 5      \n",
    "(6 rows)\n",
    "\n",
    "Query 20201205_033355_00012_6wv7i, FINISHED, 1 node\n",
    "Splits: 62 total, 55 done (88.71%)\n",
    "0:03 [490 rows, 127KB] [157 rows/s, 40.8KB/s]"
   ]
  },
  {
   "cell_type": "markdown",
   "metadata": {},
   "source": [
    "### See who is in which Guild ( with simple sample output)"
   ]
  },
  {
   "cell_type": "markdown",
   "metadata": {},
   "source": [
    "```\n",
    "presto:default> select guild_name, player_name from guild_joins;\n",
    "```"
   ]
  },
  {
   "cell_type": "raw",
   "metadata": {},
   "source": [
    "presto:default> select guild_name, player_name from guild_joins;\n",
    " guild_name | player_name \n",
    "------------+-------------\n",
    " Benz       | Hao         \n",
    "(1 row)"
   ]
  },
  {
   "cell_type": "markdown",
   "metadata": {},
   "source": [
    "### See what are the team size for the existing guilds"
   ]
  },
  {
   "cell_type": "markdown",
   "metadata": {},
   "source": [
    "```\n",
    "presto:default> select guild_name, count(*) as team_size from guild_joins group by guild_name;\n",
    "```"
   ]
  },
  {
   "cell_type": "raw",
   "metadata": {},
   "source": [
    " guild_name | team_size \n",
    "------------+-----------\n",
    " Benz       |         1 \n",
    " Mclaren    |         4 \n",
    " Williams   |         3 \n",
    " Ferrari    |         4 \n",
    "(4 rows)\n",
    "\n",
    "Query 20201206_070412_00008_wa84i, FINISHED, 1 node\n",
    "Splits: 16 total, 9 done (56.25%)\n",
    "0:02 [8 rows, 22.9KB] [4 rows/s, 12.8KB/s]"
   ]
  },
  {
   "cell_type": "markdown",
   "metadata": {},
   "source": [
    "### Check who are the members in guild \"Williams\""
   ]
  },
  {
   "cell_type": "markdown",
   "metadata": {},
   "source": [
    "```\n",
    "presto:default> select player_name, guild_name from guild_joins where guild_name='Williams';\n",
    "```"
   ]
  },
  {
   "cell_type": "raw",
   "metadata": {},
   "source": [
    " player_name | guild_name \n",
    "-------------+------------\n",
    " Joe         | Williams   \n",
    " Jon         | Williams   \n",
    " Gay         | Williams   "
   ]
  },
  {
   "cell_type": "markdown",
   "metadata": {},
   "source": [
    "### Check who are the players with player name that contains a certain letter and which guilds are they in"
   ]
  },
  {
   "cell_type": "markdown",
   "metadata": {},
   "source": [
    "```\n",
    "presto:default> select player_name, guild_name from guild_joins where player_name like '%H%';\n",
    "```"
   ]
  },
  {
   "cell_type": "raw",
   "metadata": {},
   "source": [
    " player_name | guild_name \n",
    "-------------+------------\n",
    " Hao         | Benz       \n",
    " Hao         | Ferrari    \n",
    "(2 rows)\n",
    "\n",
    "Query 20201206_071257_00017_wa84i, FINISHED, 1 node\n",
    "Splits: 15 total, 12 done (80.00%)\n",
    "0:01 [10 rows, 28.6KB] [7 rows/s, 22.9KB/s]"
   ]
  },
  {
   "cell_type": "markdown",
   "metadata": {},
   "source": [
    "```\n",
    "presto:default> select player_name, guild_name from guild_joins where player_name like '%J%';\n",
    "```"
   ]
  },
  {
   "cell_type": "raw",
   "metadata": {},
   "source": [
    " player_name | guild_name \n",
    "-------------+------------\n",
    " Joe         | Mclaren    \n",
    " Joe         | Williams   \n",
    " Jon         | Mclaren    \n",
    " Jon         | Williams   \n",
    " Jon         | Ferrari    \n",
    "(5 rows)\n",
    "\n",
    "Query 20201206_071338_00018_wa84i, FINISHED, 1 node\n",
    "Splits: 15 total, 9 done (60.00%)\n",
    "0:01 [9 rows, 25.7KB] [9 rows/s, 28.6KB/s]"
   ]
  }
 ],
 "metadata": {
  "environment": {
   "name": "tf2-gpu.2-1.m55",
   "type": "gcloud",
   "uri": "gcr.io/deeplearning-platform-release/tf2-gpu.2-1:m55"
  },
  "kernelspec": {
   "display_name": "Python 3",
   "language": "python",
   "name": "python3"
  },
  "language_info": {
   "codemirror_mode": {
    "name": "ipython",
    "version": 3
   },
   "file_extension": ".py",
   "mimetype": "text/x-python",
   "name": "python",
   "nbconvert_exporter": "python",
   "pygments_lexer": "ipython3",
   "version": "3.7.8"
  }
 },
 "nbformat": 4,
 "nbformat_minor": 4
}
