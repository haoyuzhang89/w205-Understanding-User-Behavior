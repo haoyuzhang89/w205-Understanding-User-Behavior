{
 "cells": [
  {
   "cell_type": "markdown",
   "metadata": {},
   "source": [
    "# Creating sqlite database with some initial data"
   ]
  },
  {
   "cell_type": "code",
   "execution_count": 3,
   "metadata": {},
   "outputs": [],
   "source": [
    "import sqlite3"
   ]
  },
  {
   "cell_type": "code",
   "execution_count": 4,
   "metadata": {},
   "outputs": [],
   "source": [
    "conn = sqlite3.connect('player_status.db')\n",
    "\n",
    "cursor = conn.cursor()\n",
    "\n",
    "command_create = \"\"\"Create TABLE IF NOT EXISTS \n",
    "player_status(player_name TEXT, Weapon_type Text, Rarity INTEGER)\"\"\"\n",
    "\n",
    "cursor.execute(command_create)\n",
    "\n",
    "cursor.execute(\"insert Into player_status VALUES('Hao','Sword', 5)\")\n",
    "cursor.execute(\"insert Into player_status VALUES('Dan','Sword', 2)\")\n",
    "\n",
    "conn.commit()\n",
    "conn.close()\n",
    "\n"
   ]
  },
  {
   "cell_type": "code",
   "execution_count": 5,
   "metadata": {},
   "outputs": [],
   "source": [
    "conn = sqlite3.connect('player_status.db')\n",
    "\n",
    "cursor = conn.cursor()\n",
    "\n",
    "command_create = \"\"\"Create TABLE IF NOT EXISTS \n",
    "guild(guild_name TEXT, player_name)\"\"\"\n",
    "\n",
    "cursor.execute(command_create)\n",
    "\n",
    "cursor.execute(\"insert Into guild VALUES('Avengers', 'Hao')\")\n",
    "cursor.execute(\"insert Into guild VALUES('Justice_League', 'Dan')\")\n",
    "cursor.execute(\"insert Into guild VALUES('SpongeBob', 'Alan')\")\n",
    "\n",
    "conn.commit()\n",
    "conn.close()\n",
    "\n"
   ]
  },
  {
   "cell_type": "markdown",
   "metadata": {},
   "source": [
    "# Checking the status of the Created Databases"
   ]
  },
  {
   "cell_type": "code",
   "execution_count": 7,
   "metadata": {},
   "outputs": [],
   "source": [
    "query = \"select * from player_status\""
   ]
  },
  {
   "cell_type": "code",
   "execution_count": 8,
   "metadata": {},
   "outputs": [],
   "source": [
    "conn_2 = sqlite3.connect('player_status.db')\n",
    "cur = conn_2.cursor()\n",
    "results = cur.execute(query).fetchall()\n",
    "conn_2.commit()\n",
    "conn_2.close()"
   ]
  },
  {
   "cell_type": "code",
   "execution_count": 9,
   "metadata": {},
   "outputs": [
    {
     "data": {
      "text/plain": [
       "[('Hao', 'Sword', 5), ('Dan', 'Sword', 2)]"
      ]
     },
     "execution_count": 9,
     "metadata": {},
     "output_type": "execute_result"
    }
   ],
   "source": [
    "results"
   ]
  },
  {
   "cell_type": "code",
   "execution_count": 10,
   "metadata": {},
   "outputs": [],
   "source": [
    "query = \"select * from guild\""
   ]
  },
  {
   "cell_type": "code",
   "execution_count": 12,
   "metadata": {},
   "outputs": [],
   "source": [
    "conn_2 = sqlite3.connect('player_status.db')\n",
    "cur = conn_2.cursor()\n",
    "results = cur.execute(query).fetchall()\n",
    "conn_2.commit()\n",
    "conn_2.close()"
   ]
  },
  {
   "cell_type": "code",
   "execution_count": 13,
   "metadata": {},
   "outputs": [
    {
     "data": {
      "text/plain": [
       "[('Avengers', 'Hao'), ('Justice_League', 'Dan'), ('SpongeBob', 'Alan')]"
      ]
     },
     "execution_count": 13,
     "metadata": {},
     "output_type": "execute_result"
    }
   ],
   "source": [
    "results"
   ]
  },
  {
   "cell_type": "code",
   "execution_count": null,
   "metadata": {},
   "outputs": [],
   "source": []
  }
 ],
 "metadata": {
  "environment": {
   "name": "tf2-gpu.2-1.m55",
   "type": "gcloud",
   "uri": "gcr.io/deeplearning-platform-release/tf2-gpu.2-1:m55"
  },
  "kernelspec": {
   "display_name": "Python 3",
   "language": "python",
   "name": "python3"
  },
  "language_info": {
   "codemirror_mode": {
    "name": "ipython",
    "version": 3
   },
   "file_extension": ".py",
   "mimetype": "text/x-python",
   "name": "python",
   "nbconvert_exporter": "python",
   "pygments_lexer": "ipython3",
   "version": "3.7.8"
  }
 },
 "nbformat": 4,
 "nbformat_minor": 4
}
