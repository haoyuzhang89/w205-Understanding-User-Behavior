{
 "cells": [
  {
   "cell_type": "markdown",
   "metadata": {},
   "source": [
    "# Project 3: Understanding User Behavior"
   ]
  },
  {
   "cell_type": "markdown",
   "metadata": {},
   "source": [
    "## 1. player_status.db set up: create_databsae.ipynb"
   ]
  },
  {
   "cell_type": "markdown",
   "metadata": {},
   "source": [
    "## 2. Docker Set up"
   ]
  },
  {
   "cell_type": "code",
   "execution_count": null,
   "metadata": {},
   "outputs": [],
   "source": [
    "!docker-compoes up -d"
   ]
  },
  {
   "cell_type": "code",
   "execution_count": null,
   "metadata": {},
   "outputs": [],
   "source": [
    "!docker-compose ps"
   ]
  },
  {
   "cell_type": "raw",
   "metadata": {},
   "source": [
    "               Name                             Command               State                               Ports                            \n",
    "-------------------------------------------------------------------------------------------------------------------------------------------\n",
    "project-3-haoyuzhang89_cloudera_1    /usr/bin/docker-entrypoint ...   Up      10000/tcp, 50070/tcp, 8020/tcp, 0.0.0.0:8888->8888/tcp,      \n",
    "                                                                              9083/tcp                                                     \n",
    "project-3-haoyuzhang89_kafka_1       /etc/confluent/docker/run        Up      29092/tcp, 9092/tcp                                          \n",
    "project-3-haoyuzhang89_mids_1        /bin/bash                        Up      0.0.0.0:5000->5000/tcp, 8888/tcp                             \n",
    "project-3-haoyuzhang89_presto_1      /usr/bin/docker-entrypoint ...   Up      8080/tcp                                                     \n",
    "project-3-haoyuzhang89_spark_1       docker-entrypoint.sh bash        Up      8888/tcp                                                     \n",
    "project-3-haoyuzhang89_zookeeper_1   /etc/confluent/docker/run        Up      2181/tcp, 2888/tcp, 32181/tcp, 3888/tcp   "
   ]
  },
  {
   "cell_type": "code",
   "execution_count": null,
   "metadata": {},
   "outputs": [],
   "source": [
    "!docker-compose exec kafka \\\n",
    "  kafka-topics \\\n",
    "    --create \\\n",
    "    --topic events \\\n",
    "    --partitions 1 \\\n",
    "    --replication-factor 1 \\\n",
    "    --if-not-exists \\\n",
    "    --zookeeper zookeeper:32181"
   ]
  },
  {
   "cell_type": "markdown",
   "metadata": {},
   "source": [
    "## 3. API "
   ]
  },
  {
   "cell_type": "code",
   "execution_count": null,
   "metadata": {},
   "outputs": [],
   "source": [
    "!docker-compose exec mids \\\n",
    "env FLASK_APP=/w205/project-3-haoyuzhang89/game_api.py \\\n",
    "flask run --host 0.0.0.0"
   ]
  },
  {
   "cell_type": "raw",
   "metadata": {},
   "source": [
    " * Serving Flask app \"game_api\"\n",
    " * Running on http://0.0.0.0:5000/ (Press CTRL+C to quit)"
   ]
  },
  {
   "cell_type": "markdown",
   "metadata": {},
   "source": [
    "## 4. Purchase a sword/shield"
   ]
  },
  {
   "cell_type": "code",
   "execution_count": null,
   "metadata": {},
   "outputs": [],
   "source": [
    "!docker-compose exec mids \\\n",
    "ab \\\n",
    "-n 10 \\\n",
    "-H \"Host: user1.comcast.com\" \\\n",
    "http://localhost:5000/purchase_a_sword/Haoyu"
   ]
  },
  {
   "cell_type": "raw",
   "metadata": {},
   "source": [
    "127.0.0.1 - - [05/Dec/2020 01:12:48] \"GET /purchase_a_sword/Haoyu HTTP/1.0\" 200 -\n",
    "127.0.0.1 - - [05/Dec/2020 01:12:48] \"GET /purchase_a_sword/Haoyu HTTP/1.0\" 200 -\n",
    "127.0.0.1 - - [05/Dec/2020 01:12:48] \"GET /purchase_a_sword/Haoyu HTTP/1.0\" 200 -\n",
    "127.0.0.1 - - [05/Dec/2020 01:12:48] \"GET /purchase_a_sword/Haoyu HTTP/1.0\" 200 -\n",
    "127.0.0.1 - - [05/Dec/2020 01:12:49] \"GET /purchase_a_sword/Haoyu HTTP/1.0\" 200 -\n",
    "127.0.0.1 - - [05/Dec/2020 01:12:49] \"GET /purchase_a_sword/Haoyu HTTP/1.0\" 200 -\n",
    "127.0.0.1 - - [05/Dec/2020 01:12:49] \"GET /purchase_a_sword/Haoyu HTTP/1.0\" 200 -\n",
    "127.0.0.1 - - [05/Dec/2020 01:12:49] \"GET /purchase_a_sword/Haoyu HTTP/1.0\" 200 -\n",
    "127.0.0.1 - - [05/Dec/2020 01:12:49] \"GET /purchase_a_sword/Haoyu HTTP/1.0\" 200 -\n",
    "127.0.0.1 - - [05/Dec/2020 01:12:49] \"GET /purchase_a_sword/Haoyu HTTP/1.0\" 200 -"
   ]
  },
  {
   "cell_type": "raw",
   "metadata": {},
   "source": [
    "{\"Host\": \"user1.comcast.com\", \"User-Agent\": \"ApacheBench/2.3\", \"event_type\": \"purchase_sword\", \"Accept\": \"*/*\", \"rarity\": 5}\n",
    "{\"Host\": \"user1.comcast.com\", \"User-Agent\": \"ApacheBench/2.3\", \"event_type\": \"purchase_sword\", \"Accept\": \"*/*\", \"rarity\": 5}\n",
    "{\"Host\": \"user1.comcast.com\", \"User-Agent\": \"ApacheBench/2.3\", \"event_type\": \"purchase_sword\", \"Accept\": \"*/*\", \"rarity\": 1}\n",
    "{\"Host\": \"user1.comcast.com\", \"User-Agent\": \"ApacheBench/2.3\", \"event_type\": \"purchase_sword\", \"Accept\": \"*/*\", \"rarity\": 6}\n",
    "{\"Host\": \"user1.comcast.com\", \"User-Agent\": \"ApacheBench/2.3\", \"event_type\": \"purchase_sword\", \"Accept\": \"*/*\", \"rarity\": 2}\n",
    "{\"Host\": \"user1.comcast.com\", \"User-Agent\": \"ApacheBench/2.3\", \"event_type\": \"purchase_sword\", \"Accept\": \"*/*\", \"rarity\": 4}\n",
    "{\"Host\": \"user1.comcast.com\", \"User-Agent\": \"ApacheBench/2.3\", \"event_type\": \"purchase_sword\", \"Accept\": \"*/*\", \"rarity\": 5}\n",
    "{\"Host\": \"user1.comcast.com\", \"User-Agent\": \"ApacheBench/2.3\", \"event_type\": \"purchase_sword\", \"Accept\": \"*/*\", \"rarity\": 4}\n",
    "{\"Host\": \"user1.comcast.com\", \"User-Agent\": \"ApacheBench/2.3\", \"event_type\": \"purchase_sword\", \"Accept\": \"*/*\", \"rarity\": 5}\n",
    "{\"Host\": \"user1.comcast.com\", \"User-Agent\": \"ApacheBench/2.3\", \"event_type\": \"purchase_sword\", \"Accept\": \"*/*\", \"rarity\": 4}"
   ]
  },
  {
   "cell_type": "code",
   "execution_count": null,
   "metadata": {},
   "outputs": [],
   "source": [
    "!docker-compose exec mids \\\n",
    "ab \\\n",
    "-n 10 \\\n",
    "-H \"Host: user1.comcast.com\" \\\n",
    "http://localhost:5000/purchase_a_shield/Hao"
   ]
  },
  {
   "cell_type": "raw",
   "metadata": {},
   "source": [
    "127.0.0.1 - - [05/Dec/2020 01:17:56] \"GET /purchase_a_shield/Hao HTTP/1.0\" 200 -\n",
    "127.0.0.1 - - [05/Dec/2020 01:17:56] \"GET /purchase_a_shield/Hao HTTP/1.0\" 200 -\n",
    "127.0.0.1 - - [05/Dec/2020 01:17:56] \"GET /purchase_a_shield/Hao HTTP/1.0\" 200 -\n",
    "127.0.0.1 - - [05/Dec/2020 01:17:56] \"GET /purchase_a_shield/Hao HTTP/1.0\" 200 -\n",
    "127.0.0.1 - - [05/Dec/2020 01:17:56] \"GET /purchase_a_shield/Hao HTTP/1.0\" 200 -\n",
    "127.0.0.1 - - [05/Dec/2020 01:17:56] \"GET /purchase_a_shield/Hao HTTP/1.0\" 200 -\n",
    "127.0.0.1 - - [05/Dec/2020 01:17:56] \"GET /purchase_a_shield/Hao HTTP/1.0\" 200 -"
   ]
  },
  {
   "cell_type": "raw",
   "metadata": {},
   "source": [
    "{\"Host\": \"user1.comcast.com\", \"User-Agent\": \"ApacheBench/2.3\", \"event_type\": \"purchase_shield\", \"Accept\": \"*/*\", \"rarity\": 4}\n",
    "{\"Host\": \"user1.comcast.com\", \"User-Agent\": \"ApacheBench/2.3\", \"event_type\": \"purchase_shield\", \"Accept\": \"*/*\", \"rarity\": 3}\n",
    "{\"Host\": \"user1.comcast.com\", \"User-Agent\": \"ApacheBench/2.3\", \"event_type\": \"purchase_shield\", \"Accept\": \"*/*\", \"rarity\": 3}\n",
    "{\"Host\": \"user1.comcast.com\", \"User-Agent\": \"ApacheBench/2.3\", \"event_type\": \"purchase_shield\", \"Accept\": \"*/*\", \"rarity\": 4}\n",
    "{\"Host\": \"user1.comcast.com\", \"User-Agent\": \"ApacheBench/2.3\", \"event_type\": \"purchase_shield\", \"Accept\": \"*/*\", \"rarity\": 6}\n",
    "{\"Host\": \"user1.comcast.com\", \"User-Agent\": \"ApacheBench/2.3\", \"event_type\": \"purchase_shield\", \"Accept\": \"*/*\", \"rarity\": 5}\n",
    "{\"Host\": \"user1.comcast.com\", \"User-Agent\": \"ApacheBench/2.3\", \"event_type\": \"purchase_shield\", \"Accept\": \"*/*\", \"rarity\": 2}\n",
    "{\"Host\": \"user1.comcast.com\", \"User-Agent\": \"ApacheBench/2.3\", \"event_type\": \"purchase_shield\", \"Accept\": \"*/*\", \"rarity\": 6}\n",
    "{\"Host\": \"user1.comcast.com\", \"User-Agent\": \"ApacheBench/2.3\", \"event_type\": \"purchase_shield\", \"Accept\": \"*/*\", \"rarity\": 4}\n",
    "{\"Host\": \"user1.comcast.com\", \"User-Agent\": \"ApacheBench/2.3\", \"event_type\": \"purchase_shield\", \"Accept\": \"*/*\", \"rarity\": 1}\n"
   ]
  },
  {
   "cell_type": "markdown",
   "metadata": {},
   "source": [
    "## Building Realtime Data"
   ]
  },
  {
   "cell_type": "code",
   "execution_count": null,
   "metadata": {},
   "outputs": [],
   "source": [
    "!while true; do\n",
    "docker-compose exec mids \\\n",
    "ab -n 10 -H \"Host: user1.comcast.com\" \\\n",
    "http://localhost:5000/purchase_a_sword/Haoyu \n",
    "sleep 10\n",
    "done"
   ]
  },
  {
   "cell_type": "code",
   "execution_count": null,
   "metadata": {},
   "outputs": [],
   "source": [
    "!while true; do\n",
    "docker-compose exec mids \\\n",
    "ab -n 10 -H \"Host: user2.att.com\" \\\n",
    "http://localhost:5000/purchase_a_shield/Haolun\n",
    "sleep 10\n",
    "done"
   ]
  },
  {
   "cell_type": "code",
   "execution_count": null,
   "metadata": {},
   "outputs": [],
   "source": [
    "!while true; do\n",
    "docker-compose exec mids \\\n",
    "ab -n 10 -H \"Host: user3.huawei.com\" \\\n",
    "http://localhost:5000/purchase_a_sword/Hao\n",
    "sleep 10\n",
    "done"
   ]
  },
  {
   "cell_type": "markdown",
   "metadata": {},
   "source": [
    "## Realtime Writing"
   ]
  },
  {
   "cell_type": "markdown",
   "metadata": {},
   "source": [
    "### Sword_purchases"
   ]
  },
  {
   "cell_type": "code",
   "execution_count": null,
   "metadata": {},
   "outputs": [],
   "source": [
    "!docker-compose exec spark \\\n",
    "spark-submit \\\n",
    "/w205/project-3-haoyuzhang89/write_swords_stream.py"
   ]
  },
  {
   "cell_type": "code",
   "execution_count": null,
   "metadata": {},
   "outputs": [],
   "source": [
    "## Check in another terminal \n",
    "!docker-compose exec cloudera hadoop fs -ls /tmp/sword_purchases"
   ]
  },
  {
   "cell_type": "raw",
   "metadata": {},
   "source": [
    "Found 2 items\n",
    "drwxr-xr-x   - root supergroup          0 2020-12-05 03:12 /tmp/sword_purchases/_spark_metadata\n",
    "-rw-r--r--   1 root supergroup        767 2020-12-05 03:12 /tmp/sword_purchases/part-00000-34fa90f5-9fd8-40f8-bbc8-6dc9077cc235-c000.snappy.parquet"
   ]
  },
  {
   "cell_type": "markdown",
   "metadata": {},
   "source": [
    "### Hive & Presto"
   ]
  },
  {
   "cell_type": "code",
   "execution_count": null,
   "metadata": {},
   "outputs": [],
   "source": [
    "!docker-compose exec cloudera hive"
   ]
  },
  {
   "cell_type": "code",
   "execution_count": null,
   "metadata": {},
   "outputs": [],
   "source": [
    "create external table if not exists default.sword_purchases (\n",
    "    raw_event string,\n",
    "    timestamp string,\n",
    "    Accept string,\n",
    "    Host string,\n",
    "    User_Agent string,\n",
    "    event_type string,\n",
    "    rarity string\n",
    "  )\n",
    "  stored as parquet\n",
    "  location '/tmp/sword_purchases'\n",
    "  tblproperties (\"parquet.compress\"=\"SNAPPY\");"
   ]
  },
  {
   "cell_type": "markdown",
   "metadata": {},
   "source": [
    "hive> create external table if not exists default.sword_purchases (\n",
    "    >     raw_event string,\n",
    "    >     timestamp string,\n",
    "    >     Accept string,\n",
    "    >     Host string,\n",
    "    >     User_Agent string,\n",
    "    >     event_type string,\n",
    "    >     rarity string\n",
    "    >   )\n",
    "    >   stored as parquet\n",
    "    >   location '/tmp/sword_purchases'\n",
    "    >   tblproperties (\"parquet.compress\"=\"SNAPPY\");\n",
    "OK\n",
    "Time taken: 5.794 seconds"
   ]
  },
  {
   "cell_type": "code",
   "execution_count": null,
   "metadata": {},
   "outputs": [],
   "source": [
    "!docker-compose exec presto presto --server presto:8080 --catalog hive --schema default"
   ]
  },
  {
   "cell_type": "code",
   "execution_count": null,
   "metadata": {},
   "outputs": [],
   "source": [
    "presto:default> select count(*) from sword_purchases;"
   ]
  },
  {
   "cell_type": "raw",
   "metadata": {},
   "source": [
    "presto:default> select count(*) from sword_purchases;\n",
    " _col0 \n",
    "-------\n",
    "   280 \n",
    "(1 row)\n",
    "\n",
    "Query 20201205_031806_00002_6wv7i, FINISHED, 1 node\n",
    "Splits: 35 total, 31 done (88.57%)\n",
    "0:11 [250 rows, 64.7KB] [22 rows/s, 5.9KB/s]"
   ]
  },
  {
   "cell_type": "code",
   "execution_count": null,
   "metadata": {},
   "outputs": [],
   "source": [
    "presto:default> select count(*), rarity  from sword_purchases group by rarity;"
   ]
  },
  {
   "cell_type": "raw",
   "metadata": {},
   "source": [
    " _col0 | rarity \n",
    "-------+--------\n",
    "    80 | 4      \n",
    "    79 | 6      \n",
    "    79 | 2      \n",
    "    86 | 1      \n",
    "    73 | 5      \n",
    "    73 | 3      \n",
    "(6 rows)\n",
    "\n",
    "Query 20201205_032239_00006_6wv7i, FINISHED, 1 node\n",
    "Splits: 56 total, 55 done (98.21%)\n",
    "0:05 [470 rows, 122KB] [93 rows/s, 24.2KB/s]"
   ]
  },
  {
   "cell_type": "code",
   "execution_count": null,
   "metadata": {},
   "outputs": [],
   "source": [
    "presto:default> select count(*) as number, rarity  from shield_purchases group by rarity order by number desc;"
   ]
  },
  {
   "cell_type": "raw",
   "metadata": {},
   "source": [
    " number | rarity \n",
    "--------+--------\n",
    "     99 | 1      \n",
    "     91 | 2      \n",
    "     89 | 6      \n",
    "     85 | 4      \n",
    "     84 | 3      \n",
    "     82 | 5      \n",
    "(6 rows)\n",
    "\n",
    "Query 20201205_033355_00012_6wv7i, FINISHED, 1 node\n",
    "Splits: 62 total, 55 done (88.71%)\n",
    "0:03 [490 rows, 127KB] [157 rows/s, 40.8KB/s]"
   ]
  },
  {
   "cell_type": "code",
   "execution_count": null,
   "metadata": {},
   "outputs": [],
   "source": [
    "presto:default> select * from sword_purchases limit 10;"
   ]
  },
  {
   "cell_type": "raw",
   "metadata": {},
   "source": [
    "                                                          raw_event                                                           |        timestamp        | acc\n",
    "------------------------------------------------------------------------------------------------------------------------------+-------------------------+----\n",
    " {\"Host\": \"user1.comcast.com\", \"User-Agent\": \"ApacheBench/2.3\", \"event_type\": \"purchase_sword\", \"Accept\": \"*/*\", \"rarity\": 4} | 2020-12-05 03:22:07.779 | */*\n",
    " {\"Host\": \"user1.comcast.com\", \"User-Agent\": \"ApacheBench/2.3\", \"event_type\": \"purchase_sword\", \"Accept\": \"*/*\", \"rarity\": 6} | 2020-12-05 03:22:07.809 | */*\n",
    " {\"Host\": \"user1.comcast.com\", \"User-Agent\": \"ApacheBench/2.3\", \"event_type\": \"purchase_sword\", \"Accept\": \"*/*\", \"rarity\": 2} | 2020-12-05 03:22:07.883 | */*\n",
    " {\"Host\": \"user1.comcast.com\", \"User-Agent\": \"ApacheBench/2.3\", \"event_type\": \"purchase_sword\", \"Accept\": \"*/*\", \"rarity\": 3} | 2020-12-05 03:22:07.961 | */*\n",
    " {\"Host\": \"user1.comcast.com\", \"User-Agent\": \"ApacheBench/2.3\", \"event_type\": \"purchase_sword\", \"Accept\": \"*/*\", \"rarity\": 1} | 2020-12-05 03:22:07.987 | */*\n",
    " {\"Host\": \"user1.comcast.com\", \"User-Agent\": \"ApacheBench/2.3\", \"event_type\": \"purchase_sword\", \"Accept\": \"*/*\", \"rarity\": 4} | 2020-12-05 03:22:08.016 | */*\n",
    " {\"Host\": \"user1.comcast.com\", \"User-Agent\": \"ApacheBench/2.3\", \"event_type\": \"purchase_sword\", \"Accept\": \"*/*\", \"rarity\": 6} | 2020-12-05 03:22:08.043 | */*\n",
    " {\"Host\": \"user1.comcast.com\", \"User-Agent\": \"ApacheBench/2.3\", \"event_type\": \"purchase_sword\", \"Accept\": \"*/*\", \"rarity\": 5} | 2020-12-05 03:22:08.091 | */*\n",
    " {\"Host\": \"user1.comcast.com\", \"User-Agent\": \"ApacheBench/2.3\", \"event_type\": \"purchase_sword\", \"Accept\": \"*/*\", \"rarity\": 1} | 2020-12-05 03:22:08.144 | */*\n",
    ":...skipping...\n",
    "                                                          raw_event                                                           |        timestamp        | acc\n",
    "------------------------------------------------------------------------------------------------------------------------------+-------------------------+----\n",
    " {\"Host\": \"user1.comcast.com\", \"User-Agent\": \"ApacheBench/2.3\", \"event_type\": \"purchase_sword\", \"Accept\": \"*/*\", \"rarity\": 4} | 2020-12-05 03:22:07.779 | */*\n",
    " {\"Host\": \"user1.comcast.com\", \"User-Agent\": \"ApacheBench/2.3\", \"event_type\": \"purchase_sword\", \"Accept\": \"*/*\", \"rarity\": 6} | 2020-12-05 03:22:07.809 | */*\n",
    " {\"Host\": \"user1.comcast.com\", \"User-Agent\": \"ApacheBench/2.3\", \"event_type\": \"purchase_sword\", \"Accept\": \"*/*\", \"rarity\": 2} | 2020-12-05 03:22:07.883 | */*\n",
    " {\"Host\": \"user1.comcast.com\", \"User-Agent\": \"ApacheBench/2.3\", \"event_type\": \"purchase_sword\", \"Accept\": \"*/*\", \"rarity\": 3} | 2020-12-05 03:22:07.961 | */*\n",
    " {\"Host\": \"user1.comcast.com\", \"User-Agent\": \"ApacheBench/2.3\", \"event_type\": \"purchase_sword\", \"Accept\": \"*/*\", \"rarity\": 1} | 2020-12-05 03:22:07.987 | */*\n",
    " {\"Host\": \"user1.comcast.com\", \"User-Agent\": \"ApacheBench/2.3\", \"event_type\": \"purchase_sword\", \"Accept\": \"*/*\", \"rarity\": 4} | 2020-12-05 03:22:08.016 | */*\n",
    " {\"Host\": \"user1.comcast.com\", \"User-Agent\": \"ApacheBench/2.3\", \"event_type\": \"purchase_sword\", \"Accept\": \"*/*\", \"rarity\": 6} | 2020-12-05 03:22:08.043 | */*\n",
    " {\"Host\": \"user1.comcast.com\", \"User-Agent\": \"ApacheBench/2.3\", \"event_type\": \"purchase_sword\", \"Accept\": \"*/*\", \"rarity\": 5} | 2020-12-05 03:22:08.091 | */*\n",
    " {\"Host\": \"user1.comcast.com\", \"User-Agent\": \"ApacheBench/2.3\", \"event_type\": \"purchase_sword\", \"Accept\": \"*/*\", \"rarity\": 1} | 2020-12-05 03:22:08.144 | */*\n",
    " {\"Host\": \"user1.comcast.com\", \"User-Agent\": \"ApacheBench/2.3\", \"event_type\": \"purchase_sword\", \"Accept\": \"*/*\", \"rarity\": 5} | 2020-12-05 03:22:08.176 | */*\n",
    "(10 rows)\n",
    "~\n",
    "~\n",
    "~\n",
    "~\n",
    "~\n",
    "~\n",
    "~\n",
    "~\n",
    "~\n",
    "~\n",
    "~\n",
    "~\n",
    "~\n",
    "~\n",
    "~\n",
    "~\n",
    "~\n",
    "~\n",
    "~\n",
    "~\n",
    "~\n",
    "\n",
    "Query 20201205_034620_00019_6wv7i, FINISHED, 1 node\n",
    "Splits: 61 total, 4 done (6.56%)\n",
    "2:07 [30 rows, 7.8KB] [0 rows/s, 63B/s]"
   ]
  },
  {
   "cell_type": "markdown",
   "metadata": {},
   "source": [
    "### Shield_purchases"
   ]
  },
  {
   "cell_type": "code",
   "execution_count": null,
   "metadata": {},
   "outputs": [],
   "source": [
    "!docker-compose exec spark \\\n",
    "spark-submit \\\n",
    "/w205/project-3-haoyuzhang89/write_shields_stream.py"
   ]
  },
  {
   "cell_type": "code",
   "execution_count": null,
   "metadata": {},
   "outputs": [],
   "source": [
    "## Check in another terminal \n",
    "!docker-compose exec cloudera hadoop fs -ls /tmp/shield_purchases"
   ]
  },
  {
   "cell_type": "raw",
   "metadata": {},
   "source": [
    "Found 17 items\n",
    "drwxr-xr-x   - root supergroup          0 2020-12-05 02:26 /tmp/shield_purchases/_spark_metadata\n",
    "-rw-r--r--   1 root supergroup        767 2020-12-05 02:26 /tmp/shield_purchases/part-00000-030d2d47-db44-4b57-a199-cec319b04818-c000.snappy.parquet\n",
    "-rw-r--r--   1 root supergroup        767 2020-12-05 02:23 /tmp/shield_purchases/part-00000-04bcc58f-f355-42f0-9c10-9585d424b253-c000.snappy.parquet\n",
    "-rw-r--r--   1 root supergroup        767 2020-12-05 02:24 /tmp/shield_purchases/part-00000-1bd04dee-1afb-46d5-8929-58014ad63a27-c000.snappy.parquet\n",
    "-rw-r--r--   1 root supergroup        767 2020-12-05 02:24 /tmp/shield_purchases/part-00000-26dc112d-70a3-439a-ad0e-8374015766a7-c000.snappy.parquet\n",
    "-rw-r--r--   1 root supergroup        767 2020-12-05 02:23 /tmp/shield_purchases/part-00000-328ff3ac-bada-4c53-8bb7-626b6cd84b2f-c000.snappy.parquet\n",
    "-rw-r--r--   1 root supergroup        767 2020-12-05 02:24 /tmp/shield_purchases/part-00000-6b858f7c-9284-4218-bf0e-494e81ffb4dd-c000.snappy.parquet\n",
    "-rw-r--r--   1 root supergroup        767 2020-12-05 02:25 /tmp/shield_purchases/part-00000-79387e49-343c-4ab7-96fa-ef195aea47ca-c000.snappy.parquet\n",
    "-rw-r--r--   1 root supergroup        767 2020-12-05 02:25 /tmp/shield_purchases/part-00000-811cfba5-296c-4917-8dca-b14392b40d49-c000.snappy.parquet\n",
    "-rw-r--r--   1 root supergroup        767 2020-12-05 02:23 /tmp/shield_purchases/part-00000-813e042b-8ac4-4dc8-b126-503d07366af9-c000.snappy.parquet\n",
    "-rw-r--r--   1 root supergroup        767 2020-12-05 02:24 /tmp/shield_purchases/part-00000-8b8c5e55-0d72-434b-9f3a-35a03e53b444-c000.snappy.parquet\n",
    "-rw-r--r--   1 root supergroup        767 2020-12-05 02:25 /tmp/shield_purchases/part-00000-8c31e86f-110f-4477-b5e6-f6eadc7752ae-c000.snappy.parquet\n",
    "-rw-r--r--   1 root supergroup        767 2020-12-05 02:24 /tmp/shield_purchases/part-00000-90ca75b8-240d-4530-97f1-71ee82615e66-c000.snappy.parquet\n",
    "-rw-r--r--   1 root supergroup        767 2020-12-05 02:25 /tmp/shield_purchases/part-00000-c79c85c0-868b-421d-b950-a727bb2750ce-c000.snappy.parquet\n",
    "-rw-r--r--   1 root supergroup        767 2020-12-05 02:25 /tmp/shield_purchases/part-00000-ca3144b0-16c8-4f00-b5a6-9d586a79e06f-c000.snappy.parquet\n",
    "-rw-r--r--   1 root supergroup        767 2020-12-05 02:25 /tmp/shield_purchases/part-00000-f1af6125-adf5-407f-bdd5-ec113c2412a5-c000.snappy.parquet\n",
    "-rw-r--r--   1 root supergroup        767 2020-12-05 02:24 /tmp/shield_purchases/part-00000-faef467b-b6ff-4dbe-9084-a47f70ebe62c-c000.snappy.parquet"
   ]
  },
  {
   "cell_type": "markdown",
   "metadata": {},
   "source": [
    "### Hive & Presto"
   ]
  },
  {
   "cell_type": "code",
   "execution_count": null,
   "metadata": {},
   "outputs": [],
   "source": [
    "!docker-compose exec cloudera hive"
   ]
  },
  {
   "cell_type": "code",
   "execution_count": null,
   "metadata": {},
   "outputs": [],
   "source": [
    "create external table if not exists default.shield_purchases (\n",
    "    raw_event string,\n",
    "    timestamp string,\n",
    "    Accept string,\n",
    "    Host string,\n",
    "    User_Agent string,\n",
    "    event_type string,\n",
    "    rarity string\n",
    "  )\n",
    "  stored as parquet\n",
    "  location '/tmp/shield_purchases'\n",
    "  tblproperties (\"parquet.compress\"=\"SNAPPY\");"
   ]
  },
  {
   "cell_type": "raw",
   "metadata": {},
   "source": [
    "hive> create external table if not exists default.shield_purchases (\n",
    "    >     raw_event string,\n",
    "    >     timestamp string,\n",
    "    >     Accept string,\n",
    "    >     Host string,\n",
    "    >     User_Agent string,\n",
    "    >     event_type string,\n",
    "    >     rarity string\n",
    "    >   )\n",
    "    >   stored as parquet\n",
    "    >   location '/tmp/shield_purchases'\n",
    "    >   tblproperties (\"parquet.compress\"=\"SNAPPY\");  \n",
    "    OK\n",
    "Time taken: 2.396 seconds\n",
    "hive> "
   ]
  },
  {
   "cell_type": "code",
   "execution_count": null,
   "metadata": {},
   "outputs": [],
   "source": [
    "!docker-compose exec presto presto --server presto:8080 --catalog hive --schema default"
   ]
  },
  {
   "cell_type": "code",
   "execution_count": null,
   "metadata": {},
   "outputs": [],
   "source": [
    "presto:default> select count(*) from shield_purchases;"
   ]
  },
  {
   "cell_type": "raw",
   "metadata": {},
   "source": [
    " _col0 \n",
    "-------\n",
    "   190 \n",
    "(1 row)\n",
    "\n",
    "Query 20201205_024717_00009_bdrvj, FINISHED, 1 node\n",
    "Splits: 78 total, 74 done (94.87%)\n",
    "0:07 [190 rows, 38.8KB] [27 rows/s, 5.52KB/s]"
   ]
  },
  {
   "cell_type": "raw",
   "metadata": {},
   "source": [
    "presto:default> select count(*) from shield_purchases;\n",
    " _col0 \n",
    "-------\n",
    "  1150 \n",
    "(1 row)\n",
    "\n",
    "Query 20201205_033127_00009_6wv7i, FINISHED, 1 node\n",
    "Splits: 105 total, 100 done (95.24%)\n",
    "0:06 [1.14K rows, 103KB] [201 rows/s, 18.1KB/s]"
   ]
  },
  {
   "cell_type": "code",
   "execution_count": null,
   "metadata": {},
   "outputs": [],
   "source": [
    "presto:default> select count(*) as number, rarity from shield_purchases group by rarity order by number desc;"
   ]
  },
  {
   "cell_type": "raw",
   "metadata": {},
   "source": [
    " number | rarity \n",
    "--------+--------\n",
    "    269 | 6      \n",
    "    265 | 3      \n",
    "    250 | 1      \n",
    "    240 | 5      \n",
    "    239 | 4      \n",
    "    227 | 2      \n",
    "(6 rows)\n",
    "\n",
    "Query 20201205_033743_00014_6wv7i, FINISHED, 1 node\n",
    "Splits: 144 total, 138 done (95.83%)\n",
    "0:09 [1.44K rows, 189KB] [152 rows/s, 20.1KB/s]"
   ]
  },
  {
   "cell_type": "code",
   "execution_count": null,
   "metadata": {},
   "outputs": [],
   "source": [
    "select * from shield_purchases limit 10;"
   ]
  },
  {
   "cell_type": "raw",
   "metadata": {},
   "source": [
    "                                                         raw_event                                                         |        timesta\n",
    "---------------------------------------------------------------------------------------------------------------------------+---------------\n",
    " {\"Host\": \"user2.att.com\", \"User-Agent\": \"ApacheBench/2.3\", \"event_type\": \"purchase_shield\", \"Accept\": \"*/*\", \"rarity\": 1} | 2020-12-05 03:\n",
    " {\"Host\": \"user2.att.com\", \"User-Agent\": \"ApacheBench/2.3\", \"event_type\": \"purchase_shield\", \"Accept\": \"*/*\", \"rarity\": 4} | 2020-12-05 03:\n",
    " {\"Host\": \"user2.att.com\", \"User-Agent\": \"ApacheBench/2.3\", \"event_type\": \"purchase_shield\", \"Accept\": \"*/*\", \"rarity\": 1} | 2020-12-05 03:\n",
    " {\"Host\": \"user2.att.com\", \"User-Agent\": \"ApacheBench/2.3\", \"event_type\": \"purchase_shield\", \"Accept\": \"*/*\", \"rarity\": 5} | 2020-12-05 03:\n",
    " {\"Host\": \"user2.att.com\", \"User-Agent\": \"ApacheBench/2.3\", \"event_type\": \"purchase_shield\", \"Accept\": \"*/*\", \"rarity\": 1} | 2020-12-05 03:\n",
    " {\"Host\": \"user2.att.com\", \"User-Agent\": \"ApacheBench/2.3\", \"event_type\": \"purchase_shield\", \"Accept\": \"*/*\", \"rarity\": 4} | 2020-12-05 03:\n",
    " {\"Host\": \"user2.att.com\", \"User-Agent\": \"ApacheBench/2.3\", \"event_type\": \"purchase_shield\", \"Accept\": \"*/*\", \"rarity\": 6} | 2020-12-05 03:\n",
    " {\"Host\": \"user2.att.com\", \"User-Agent\": \"ApacheBench/2.3\", \"event_type\": \"purchase_shield\", \"Accept\": \"*/*\", \"rarity\": 3} | 2020-12-05 03:\n",
    " {\"Host\": \"user2.att.com\", \"User-Agent\": \"ApacheBench/2.3\", \"event_type\": \"purchase_shield\", \"Accept\": \"*/*\", \"rarity\": 2} | 2020-12-05 03:\n"
   ]
  }
 ],
 "metadata": {
  "environment": {
   "name": "tf2-gpu.2-1.m55",
   "type": "gcloud",
   "uri": "gcr.io/deeplearning-platform-release/tf2-gpu.2-1:m55"
  },
  "kernelspec": {
   "display_name": "Python 3",
   "language": "python",
   "name": "python3"
  },
  "language_info": {
   "codemirror_mode": {
    "name": "ipython",
    "version": 3
   },
   "file_extension": ".py",
   "mimetype": "text/x-python",
   "name": "python",
   "nbconvert_exporter": "python",
   "pygments_lexer": "ipython3",
   "version": "3.7.8"
  }
 },
 "nbformat": 4,
 "nbformat_minor": 4
}
